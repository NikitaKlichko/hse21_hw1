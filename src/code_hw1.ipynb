{
 "cells": [
  {
   "cell_type": "markdown",
   "metadata": {},
   "source": [
    "## Code platanus assemble"
   ]
  },
  {
   "cell_type": "code",
   "execution_count": 29,
   "metadata": {},
   "outputs": [],
   "source": [
    "import numpy as np"
   ]
  },
  {
   "cell_type": "code",
   "execution_count": 144,
   "metadata": {},
   "outputs": [],
   "source": [
    "f1 = open('Poil_contig.txt', 'r')\n",
    "lines1 = f1.readlines()\n",
    "lens = []\n",
    "for line in lines1:\n",
    "    if '>' in line:\n",
    "        lens.append(int(line.split('_')[1][3:]))\n",
    "f1.close()"
   ]
  },
  {
   "cell_type": "code",
   "execution_count": 145,
   "metadata": {},
   "outputs": [],
   "source": [
    "lens.sort(reverse=True)\n",
    "cum_lens = np.cumsum(lens)\n",
    "num = []\n",
    "for elem in cum_lens:\n",
    "    if elem >= sum(lens) / 2:\n",
    "        num.append(elem)\n",
    "        break\n",
    "ind = cum_lens.tolist().index(num[0])"
   ]
  },
  {
   "cell_type": "code",
   "execution_count": 146,
   "metadata": {},
   "outputs": [
    {
     "name": "stdout",
     "output_type": "stream",
     "text": [
      "Общее количество контигов: 628\n",
      "Общая длина контигов: 3926426\n",
      "Максимальная длина контига: 179307\n",
      "N50: 52799\n"
     ]
    }
   ],
   "source": [
    "print('Общее количество контигов: ''{}'.format(len(lens)))\n",
    "print('Общая длина контигов: ''{}'.format(sum(lens)))\n",
    "print('Максимальная длина контига: ''{}'.format(max(lens)))\n",
    "print('N50: ''{}'.format(lens[ind]))"
   ]
  },
  {
   "cell_type": "markdown",
   "metadata": {},
   "source": [
    "## Code platanus scafold"
   ]
  },
  {
   "cell_type": "code",
   "execution_count": 147,
   "metadata": {},
   "outputs": [],
   "source": [
    "f2 = open('Poil_scaffold.txt', 'r')\n",
    "lines2 = f2.readlines()\n",
    "lens_sc = []\n",
    "info_sc = []\n",
    "for line in lines2:\n",
    "    if '>' in line:\n",
    "        info_sc.append(line.strip())\n",
    "        lens_sc.append(int(line.split('_')[1][3:]))\n",
    "f2.close()"
   ]
  },
  {
   "cell_type": "code",
   "execution_count": 148,
   "metadata": {},
   "outputs": [],
   "source": [
    "lens_sc.sort(reverse=True)\n",
    "cum_lens_sc = np.cumsum(lens_sc)\n",
    "num_sc = []\n",
    "for elem in cum_lens_sc:\n",
    "    if elem >= sum(lens_sc) / 2:\n",
    "        num_sc.append(elem)\n",
    "        break\n",
    "ind2 = cum_lens_sc.tolist().index(num_sc[0])"
   ]
  },
  {
   "cell_type": "code",
   "execution_count": 149,
   "metadata": {},
   "outputs": [
    {
     "name": "stdout",
     "output_type": "stream",
     "text": [
      "Общее количество контигов: 71\n",
      "Общая длина контигов: 3876285\n",
      "Максимальная длина контига: 3836599\n",
      "N50: 3836599\n"
     ]
    }
   ],
   "source": [
    "print('Общее количество контигов: ''{}'.format(len(lens_sc)))\n",
    "print('Общая длина контигов: ''{}'.format(sum(lens_sc)))\n",
    "print('Максимальная длина контига: ''{}'.format(max(lens_sc)))\n",
    "print('N50: ''{}'.format(lens_sc[ind2]))"
   ]
  },
  {
   "cell_type": "code",
   "execution_count": 150,
   "metadata": {},
   "outputs": [
    {
     "name": "stdout",
     "output_type": "stream",
     "text": [
      ">scaffold2_len3836599_cov232\n",
      "\n"
     ]
    }
   ],
   "source": [
    "for line in lines2:\n",
    "    if '3836599' in line: #'имя' наибольшего контига\n",
    "        print(line)"
   ]
  },
  {
   "cell_type": "code",
   "execution_count": 151,
   "metadata": {},
   "outputs": [
    {
     "name": "stdout",
     "output_type": "stream",
     "text": [
      ">scaffold3_len670_cov219_single\n",
      "\n"
     ]
    }
   ],
   "source": [
    "for line in lines2:\n",
    "    if 'scaffold3_' in line: #'имя' контига, следующего за наибольшим\n",
    "        print(line)"
   ]
  },
  {
   "cell_type": "code",
   "execution_count": 138,
   "metadata": {},
   "outputs": [],
   "source": [
    "with open('Poil_scaffold.txt') as f2:\n",
    "    lines = f2.readlines()\n",
    "    mystr = '\\n'.join([line.strip() for line in lines])\n",
    "    start = '>scaffold2_len3836599_cov232\\n'\n",
    "    end = '>scaffold3_len670_cov219_single\\n'\n",
    "    patt = mystr[mystr.find(start)+len(start):mystr.rfind(end)]\n",
    "    split = patt.split('\\n')"
   ]
  },
  {
   "cell_type": "code",
   "execution_count": 139,
   "metadata": {},
   "outputs": [],
   "source": [
    "N_lines = []\n",
    "N_nums = []\n",
    "for line in split:\n",
    "    if 'N' in line:\n",
    "        N_lines.append(line)\n",
    "        N_nums.append(line.count('N'))"
   ]
  },
  {
   "cell_type": "code",
   "execution_count": 140,
   "metadata": {},
   "outputs": [
    {
     "name": "stdout",
     "output_type": "stream",
     "text": [
      "Число гэпов: 146\n",
      "Общая длина гэпов: 6561\n"
     ]
    }
   ],
   "source": [
    "print('Число гэпов: ' '{}'.format(len(N_lines)))\n",
    "print('Общая длина гэпов: ''{}'.format(sum(N_nums)))"
   ]
  },
  {
   "cell_type": "markdown",
   "metadata": {},
   "source": [
    "## Code gapclose"
   ]
  },
  {
   "cell_type": "code",
   "execution_count": 158,
   "metadata": {},
   "outputs": [],
   "source": [
    "with open('Poil_gapClosed.txt') as f3: #тоже самое, что для предыдущего\n",
    "    lines = f3.readlines()\n",
    "    mystr = '\\n'.join([line.strip() for line in lines])\n",
    "    start = '>scaffold2_cov232\\n'\n",
    "    end = '>scaffold3_cov219\\n'\n",
    "    patt = mystr[mystr.find(start)+len(start):mystr.rfind(end)]\n",
    "    split = patt.split('\\n')"
   ]
  },
  {
   "cell_type": "code",
   "execution_count": 159,
   "metadata": {},
   "outputs": [],
   "source": [
    "N_lines_cl = []\n",
    "N_nums_cl = []\n",
    "for line in split:\n",
    "    if 'N' in line:\n",
    "        N_lines_cl.append(line)\n",
    "        N_nums_cl.append(line.count('N'))"
   ]
  },
  {
   "cell_type": "code",
   "execution_count": 160,
   "metadata": {},
   "outputs": [
    {
     "name": "stdout",
     "output_type": "stream",
     "text": [
      "Число гэпов: 27\n",
      "Общая длина гэпов: 1789\n"
     ]
    }
   ],
   "source": [
    "print('Число гэпов: ' '{}'.format(len(N_lines_cl)))\n",
    "print('Общая длина гэпов: ''{}'.format(sum(N_nums_cl)))"
   ]
  }
 ],
 "metadata": {
  "kernelspec": {
   "display_name": "Python 3",
   "language": "python",
   "name": "python3"
  },
  "language_info": {
   "codemirror_mode": {
    "name": "ipython",
    "version": 3
   },
   "file_extension": ".py",
   "mimetype": "text/x-python",
   "name": "python",
   "nbconvert_exporter": "python",
   "pygments_lexer": "ipython3",
   "version": "3.8.5"
  }
 },
 "nbformat": 4,
 "nbformat_minor": 4
}
